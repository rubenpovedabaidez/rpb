{
 "cells": [
  {
   "cell_type": "markdown",
   "metadata": {},
   "source": [
    "<center>\n",
    "    <img src=\"https://cf-courses-data.s3.us.cloud-object-storage.appdomain.cloud/IBMDeveloperSkillsNetwork-DS0105EN-SkillsNetwork/labs/Module2/images/SN_web_lightmode.png\" width=\"300\" alt=\"cognitiveclass.ai logo\">\n",
    "</center>\n"
   ]
  },
  {
   "cell_type": "markdown",
   "metadata": {},
   "source": [
    "# Rubén Poveda Data Science Final Project"
   ]
  },
  {
   "cell_type": "markdown",
   "metadata": {},
   "source": [
    "## Introduction\n",
    "In this notebook, we will explore various aspects of data science, including languages, libraries, and tools. We will also perform some basic calculations."
   ]
  },
  {
   "cell_type": "markdown",
   "metadata": {},
   "source": [
    "## Data Science Languages\n",
    "Some of the most commonly used languages in data science are:\n",
    "- Python\n",
    "- R\n",
    "- SQL\n",
    "- Julia\n",
    "- Scala"
   ]
  },
  {
   "cell_type": "markdown",
   "metadata": {},
   "source": [
    "## Data Science Libraries\n",
    "Some of the most popular libraries in data science are:\n",
    "- NumPy\n",
    "- Pandas\n",
    "- Matplotlib\n",
    "- Scikit-learn\n",
    "- TensorFlow\n"
   ]
  },
  {
   "cell_type": "markdown",
   "metadata": {},
   "source": [
    "## Data Science Tools\n",
    "| Tool             | Description                               |\n",
    "|------------------|-------------------------------------------|\n",
    "| Jupyter Notebooks| Interactive programming environment.      |\n",
    "| RStudio          | IDE for R.                                |\n",
    "| Apache Hadoop    | Framework for data processing.            |\n",
    "| Tableau          | Data visualization tool.                  |\n",
    "| Power BI         | Business analytics tool.                  |\n"
   ]
  },
  {
   "cell_type": "markdown",
   "metadata": {},
   "source": [
    "## Examples of Arithmetic Expressions\n",
    "Below are some basic examples of arithmetic expressions in Python."
   ]
  },
  {
   "cell_type": "code",
   "execution_count": 1,
   "metadata": {},
   "outputs": [
    {
     "name": "stdout",
     "output_type": "stream",
     "text": [
      "The product of 10 and 5 is: 50\n",
      "The sum of 7 and 3 is: 10\n"
     ]
    }
   ],
   "source": [
    "# Multiply two numbers\n",
    "number1 = 10\n",
    "number2 = 5\n",
    "product = number1 * number2\n",
    "print(f\"The product of {number1} and {number2} is: {product}\")\n",
    "\n",
    "# Sum two numbers\n",
    "number3 = 7\n",
    "number4 = 3\n",
    "sum = number3 + number4\n",
    "print(f\"The sum of {number3} and {number4} is: {sum}\")"
   ]
  },
  {
   "cell_type": "code",
   "execution_count": 2,
   "metadata": {},
   "outputs": [
    {
     "name": "stdout",
     "output_type": "stream",
     "text": [
      "60 minutes are equivalent to 1.0 hours\n"
     ]
    }
   ],
   "source": [
    "# Convert minutes to hours\n",
    "minutes = 60\n",
    "hours = minutes / 60\n",
    "print(f\"{minutes} minutes are equivalent to {hours} hours\")\n",
    "\n"
   ]
  },
  {
   "cell_type": "code",
   "execution_count": 3,
   "metadata": {},
   "outputs": [
    {
     "name": "stdout",
     "output_type": "stream",
     "text": [
      "Project objectives:\n",
      "- Master the fundamentals of Python for data science\n",
      "- Learn to use libraries like NumPy and pandas\n",
      "- Explore data analysis and visualization techniques\n",
      "- Develop skills for problem-solving and data-driven decision making\n"
     ]
    }
   ],
   "source": [
    "# List of objectives\n",
    "objectives = [\"Master the fundamentals of Python for data science\",\n",
    "            \"Learn to use libraries like NumPy and pandas\",\n",
    "            \"Explore data analysis and visualization techniques\",\n",
    "            \"Develop skills for problem-solving and data-driven decision making\"]\n",
    "\n",
    "# Print the list of objectives\n",
    "print(\"Project objectives:\")\n",
    "for objective in objectives:\n",
    "    print(f\"- {objective}\")\n",
    "\n"
   ]
  },
  {
   "cell_type": "markdown",
   "metadata": {},
   "source": [
    "## Autor\n",
    "**Rubén Poveda Baidez:** [Rubén Poveda Baidez]\n"
   ]
  }
 ],
 "metadata": {
  "kernelspec": {
   "display_name": "Python",
   "language": "python",
   "name": "conda-env-python-py"
  },
  "language_info": {
   "codemirror_mode": {
    "name": "ipython",
    "version": 3
   },
   "file_extension": ".py",
   "mimetype": "text/x-python",
   "name": "python",
   "nbconvert_exporter": "python",
   "pygments_lexer": "ipython3",
   "version": "3.7.12"
  }
 },
 "nbformat": 4,
 "nbformat_minor": 4
}
